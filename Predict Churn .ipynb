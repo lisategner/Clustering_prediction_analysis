{
 "cells": [
  {
   "cell_type": "markdown",
   "id": "21ad934c",
   "metadata": {},
   "source": [
    "# Predict Churn"
   ]
  },
  {
   "cell_type": "code",
   "execution_count": 1,
   "id": "1af94d6a",
   "metadata": {},
   "outputs": [],
   "source": [
    "import pandas as pd\n",
    "import matplotlib.pyplot as plt\n",
    "import numpy as np\n",
    "import seaborn as sns"
   ]
  },
  {
   "cell_type": "code",
   "execution_count": 2,
   "id": "429638cc",
   "metadata": {},
   "outputs": [],
   "source": [
    "df = pd.read_csv(\"user_data.csv\")"
   ]
  },
  {
   "cell_type": "code",
   "execution_count": 3,
   "id": "5b6759a2",
   "metadata": {},
   "outputs": [
    {
     "data": {
      "text/html": [
       "<div>\n",
       "<style scoped>\n",
       "    .dataframe tbody tr th:only-of-type {\n",
       "        vertical-align: middle;\n",
       "    }\n",
       "\n",
       "    .dataframe tbody tr th {\n",
       "        vertical-align: top;\n",
       "    }\n",
       "\n",
       "    .dataframe thead th {\n",
       "        text-align: right;\n",
       "    }\n",
       "</style>\n",
       "<table border=\"1\" class=\"dataframe\">\n",
       "  <thead>\n",
       "    <tr style=\"text-align: right;\">\n",
       "      <th></th>\n",
       "      <th>user_id</th>\n",
       "      <th>signed_on</th>\n",
       "      <th>age</th>\n",
       "      <th>cancellation_date</th>\n",
       "      <th>switched_insurance_from</th>\n",
       "      <th>nr_of_referred_customers</th>\n",
       "      <th>policy_type</th>\n",
       "      <th>monthly_premium</th>\n",
       "      <th>claims_cost</th>\n",
       "    </tr>\n",
       "  </thead>\n",
       "  <tbody>\n",
       "    <tr>\n",
       "      <th>0</th>\n",
       "      <td>39511.0</td>\n",
       "      <td>2020-09-09T00:00:00</td>\n",
       "      <td>31.0</td>\n",
       "      <td>2021-06-30</td>\n",
       "      <td>NaN</td>\n",
       "      <td>0</td>\n",
       "      <td>HOME_INSURANCE</td>\n",
       "      <td>155.0</td>\n",
       "      <td>NaN</td>\n",
       "    </tr>\n",
       "    <tr>\n",
       "      <th>1</th>\n",
       "      <td>54361.0</td>\n",
       "      <td>2021-06-15T00:00:00</td>\n",
       "      <td>31.0</td>\n",
       "      <td>NaN</td>\n",
       "      <td>NaN</td>\n",
       "      <td>0</td>\n",
       "      <td>HOME_INSURANCE</td>\n",
       "      <td>279.0</td>\n",
       "      <td>NaN</td>\n",
       "    </tr>\n",
       "    <tr>\n",
       "      <th>2</th>\n",
       "      <td>217977.0</td>\n",
       "      <td>2019-03-03T00:00:00</td>\n",
       "      <td>34.0</td>\n",
       "      <td>NaN</td>\n",
       "      <td>NaN</td>\n",
       "      <td>0</td>\n",
       "      <td>HOME_INSURANCE</td>\n",
       "      <td>228.0</td>\n",
       "      <td>NaN</td>\n",
       "    </tr>\n",
       "    <tr>\n",
       "      <th>3</th>\n",
       "      <td>252748.0</td>\n",
       "      <td>2019-08-04T00:00:00</td>\n",
       "      <td>36.0</td>\n",
       "      <td>2020-07-31</td>\n",
       "      <td>NaN</td>\n",
       "      <td>0</td>\n",
       "      <td>HOME_INSURANCE</td>\n",
       "      <td>239.0</td>\n",
       "      <td>NaN</td>\n",
       "    </tr>\n",
       "    <tr>\n",
       "      <th>4</th>\n",
       "      <td>275928.0</td>\n",
       "      <td>2020-03-19T00:00:00</td>\n",
       "      <td>34.0</td>\n",
       "      <td>NaN</td>\n",
       "      <td>Trygg-Hansa</td>\n",
       "      <td>0</td>\n",
       "      <td>HOME_INSURANCE</td>\n",
       "      <td>173.0</td>\n",
       "      <td>NaN</td>\n",
       "    </tr>\n",
       "    <tr>\n",
       "      <th>...</th>\n",
       "      <td>...</td>\n",
       "      <td>...</td>\n",
       "      <td>...</td>\n",
       "      <td>...</td>\n",
       "      <td>...</td>\n",
       "      <td>...</td>\n",
       "      <td>...</td>\n",
       "      <td>...</td>\n",
       "      <td>...</td>\n",
       "    </tr>\n",
       "    <tr>\n",
       "      <th>15995</th>\n",
       "      <td>688733894.0</td>\n",
       "      <td>2020-11-18T00:00:00</td>\n",
       "      <td>25.0</td>\n",
       "      <td>NaN</td>\n",
       "      <td>NaN</td>\n",
       "      <td>0</td>\n",
       "      <td>PHONE_INSURANCE</td>\n",
       "      <td>26.0</td>\n",
       "      <td>NaN</td>\n",
       "    </tr>\n",
       "    <tr>\n",
       "      <th>15996</th>\n",
       "      <td>688741553.0</td>\n",
       "      <td>2019-05-24T00:00:00</td>\n",
       "      <td>53.0</td>\n",
       "      <td>2020-07-20</td>\n",
       "      <td>Trygg-Hansa</td>\n",
       "      <td>0</td>\n",
       "      <td>HOME_INSURANCE</td>\n",
       "      <td>298.0</td>\n",
       "      <td>NaN</td>\n",
       "    </tr>\n",
       "    <tr>\n",
       "      <th>15997</th>\n",
       "      <td>688745399.0</td>\n",
       "      <td>2019-12-14T00:00:00</td>\n",
       "      <td>29.0</td>\n",
       "      <td>2021-01-08</td>\n",
       "      <td>Folksam</td>\n",
       "      <td>0</td>\n",
       "      <td>HOME_INSURANCE</td>\n",
       "      <td>216.0</td>\n",
       "      <td>NaN</td>\n",
       "    </tr>\n",
       "    <tr>\n",
       "      <th>15998</th>\n",
       "      <td>688751211.0</td>\n",
       "      <td>2021-03-04T00:00:00</td>\n",
       "      <td>42.0</td>\n",
       "      <td>NaN</td>\n",
       "      <td>NaN</td>\n",
       "      <td>0</td>\n",
       "      <td>HOME_INSURANCE</td>\n",
       "      <td>222.0</td>\n",
       "      <td>NaN</td>\n",
       "    </tr>\n",
       "    <tr>\n",
       "      <th>15999</th>\n",
       "      <td>688764045.0</td>\n",
       "      <td>2020-09-15T00:00:00</td>\n",
       "      <td>22.0</td>\n",
       "      <td>NaN</td>\n",
       "      <td>NaN</td>\n",
       "      <td>0</td>\n",
       "      <td>HOME_INSURANCE</td>\n",
       "      <td>171.0</td>\n",
       "      <td>NaN</td>\n",
       "    </tr>\n",
       "  </tbody>\n",
       "</table>\n",
       "<p>16000 rows × 9 columns</p>\n",
       "</div>"
      ],
      "text/plain": [
       "           user_id            signed_on   age cancellation_date  \\\n",
       "0          39511.0  2020-09-09T00:00:00  31.0        2021-06-30   \n",
       "1          54361.0  2021-06-15T00:00:00  31.0               NaN   \n",
       "2         217977.0  2019-03-03T00:00:00  34.0               NaN   \n",
       "3         252748.0  2019-08-04T00:00:00  36.0        2020-07-31   \n",
       "4         275928.0  2020-03-19T00:00:00  34.0               NaN   \n",
       "...            ...                  ...   ...               ...   \n",
       "15995  688733894.0  2020-11-18T00:00:00  25.0               NaN   \n",
       "15996  688741553.0  2019-05-24T00:00:00  53.0        2020-07-20   \n",
       "15997  688745399.0  2019-12-14T00:00:00  29.0        2021-01-08   \n",
       "15998  688751211.0  2021-03-04T00:00:00  42.0               NaN   \n",
       "15999  688764045.0  2020-09-15T00:00:00  22.0               NaN   \n",
       "\n",
       "      switched_insurance_from  nr_of_referred_customers      policy_type  \\\n",
       "0                         NaN                         0   HOME_INSURANCE   \n",
       "1                         NaN                         0   HOME_INSURANCE   \n",
       "2                         NaN                         0   HOME_INSURANCE   \n",
       "3                         NaN                         0   HOME_INSURANCE   \n",
       "4                 Trygg-Hansa                         0   HOME_INSURANCE   \n",
       "...                       ...                       ...              ...   \n",
       "15995                     NaN                         0  PHONE_INSURANCE   \n",
       "15996             Trygg-Hansa                         0   HOME_INSURANCE   \n",
       "15997                 Folksam                         0   HOME_INSURANCE   \n",
       "15998                     NaN                         0   HOME_INSURANCE   \n",
       "15999                     NaN                         0   HOME_INSURANCE   \n",
       "\n",
       "       monthly_premium  claims_cost  \n",
       "0                155.0          NaN  \n",
       "1                279.0          NaN  \n",
       "2                228.0          NaN  \n",
       "3                239.0          NaN  \n",
       "4                173.0          NaN  \n",
       "...                ...          ...  \n",
       "15995             26.0          NaN  \n",
       "15996            298.0          NaN  \n",
       "15997            216.0          NaN  \n",
       "15998            222.0          NaN  \n",
       "15999            171.0          NaN  \n",
       "\n",
       "[16000 rows x 9 columns]"
      ]
     },
     "execution_count": 3,
     "metadata": {},
     "output_type": "execute_result"
    }
   ],
   "source": [
    "df"
   ]
  },
  {
   "cell_type": "code",
   "execution_count": 4,
   "id": "a33054eb",
   "metadata": {},
   "outputs": [
    {
     "name": "stdout",
     "output_type": "stream",
     "text": [
      "<class 'pandas.core.frame.DataFrame'>\n",
      "RangeIndex: 16000 entries, 0 to 15999\n",
      "Data columns (total 9 columns):\n",
      " #   Column                    Non-Null Count  Dtype  \n",
      "---  ------                    --------------  -----  \n",
      " 0   user_id                   16000 non-null  float64\n",
      " 1   signed_on                 16000 non-null  object \n",
      " 2   age                       15990 non-null  float64\n",
      " 3   cancellation_date         3795 non-null   object \n",
      " 4   switched_insurance_from   2231 non-null   object \n",
      " 5   nr_of_referred_customers  16000 non-null  int64  \n",
      " 6   policy_type               16000 non-null  object \n",
      " 7   monthly_premium           16000 non-null  float64\n",
      " 8   claims_cost               306 non-null    float64\n",
      "dtypes: float64(4), int64(1), object(4)\n",
      "memory usage: 1.1+ MB\n"
     ]
    }
   ],
   "source": [
    "df.info()"
   ]
  },
  {
   "cell_type": "markdown",
   "id": "d1bd0137",
   "metadata": {},
   "source": [
    "## Add column for churn - Target Variable"
   ]
  },
  {
   "cell_type": "code",
   "execution_count": 5,
   "id": "f0c96f7b",
   "metadata": {},
   "outputs": [],
   "source": [
    "df[\"churn\"] = df[\"cancellation_date\"]"
   ]
  },
  {
   "cell_type": "code",
   "execution_count": 6,
   "id": "afd15ce6",
   "metadata": {},
   "outputs": [],
   "source": [
    "df[\"churn\"] = df[\"churn\"].fillna(0)"
   ]
  },
  {
   "cell_type": "code",
   "execution_count": 7,
   "id": "63235eb8",
   "metadata": {},
   "outputs": [],
   "source": [
    "def f_churn(i):\n",
    "    \n",
    "    if i == 0:\n",
    "        return \"No\"\n",
    "    else:\n",
    "        return \"Yes\""
   ]
  },
  {
   "cell_type": "code",
   "execution_count": 8,
   "id": "954ab231",
   "metadata": {},
   "outputs": [],
   "source": [
    "df[\"churn\"] = df[\"churn\"].apply(lambda x: f_churn(x))"
   ]
  },
  {
   "cell_type": "markdown",
   "id": "f26410b0",
   "metadata": {},
   "source": [
    "## Outliers"
   ]
  },
  {
   "cell_type": "code",
   "execution_count": 9,
   "id": "66a3e957",
   "metadata": {},
   "outputs": [
    {
     "data": {
      "image/png": "[encoded data removed]",
      "text/plain": [
       "<Figure size 864x576 with 1 Axes>"
      ]
     },
     "metadata": {
      "needs_background": "light"
     },
     "output_type": "display_data"
    }
   ],
   "source": [
    "plt.figure(figsize=(12,8))\n",
    "sns.boxplot(data=df, x=\"age\")\n",
    "plt.show()"
   ]
  },
  {
   "cell_type": "code",
   "execution_count": 10,
   "id": "76daa9a7",
   "metadata": {},
   "outputs": [
    {
     "data": {
      "text/html": [
       "<div>\n",
       "<style scoped>\n",
       "    .dataframe tbody tr th:only-of-type {\n",
       "        vertical-align: middle;\n",
       "    }\n",
       "\n",
       "    .dataframe tbody tr th {\n",
       "        vertical-align: top;\n",
       "    }\n",
       "\n",
       "    .dataframe thead th {\n",
       "        text-align: right;\n",
       "    }\n",
       "</style>\n",
       "<table border=\"1\" class=\"dataframe\">\n",
       "  <thead>\n",
       "    <tr style=\"text-align: right;\">\n",
       "      <th></th>\n",
       "      <th>user_id</th>\n",
       "      <th>signed_on</th>\n",
       "      <th>age</th>\n",
       "      <th>cancellation_date</th>\n",
       "      <th>switched_insurance_from</th>\n",
       "      <th>nr_of_referred_customers</th>\n",
       "      <th>policy_type</th>\n",
       "      <th>monthly_premium</th>\n",
       "      <th>claims_cost</th>\n",
       "      <th>churn</th>\n",
       "    </tr>\n",
       "  </thead>\n",
       "  <tbody>\n",
       "    <tr>\n",
       "      <th>8031</th>\n",
       "      <td>343750233.0</td>\n",
       "      <td>2020-05-14T00:00:00</td>\n",
       "      <td>148.0</td>\n",
       "      <td>2020-09-30</td>\n",
       "      <td>NaN</td>\n",
       "      <td>0</td>\n",
       "      <td>HOME_INSURANCE</td>\n",
       "      <td>168.0</td>\n",
       "      <td>NaN</td>\n",
       "      <td>Yes</td>\n",
       "    </tr>\n",
       "  </tbody>\n",
       "</table>\n",
       "</div>"
      ],
      "text/plain": [
       "          user_id            signed_on    age cancellation_date  \\\n",
       "8031  343750233.0  2020-05-14T00:00:00  148.0        2020-09-30   \n",
       "\n",
       "     switched_insurance_from  nr_of_referred_customers     policy_type  \\\n",
       "8031                     NaN                         0  HOME_INSURANCE   \n",
       "\n",
       "      monthly_premium  claims_cost churn  \n",
       "8031            168.0          NaN   Yes  "
      ]
     },
     "execution_count": 10,
     "metadata": {},
     "output_type": "execute_result"
    }
   ],
   "source": [
    "df.loc[df.age > 100]"
   ]
  },
  {
   "cell_type": "code",
   "execution_count": 11,
   "id": "393e301f",
   "metadata": {},
   "outputs": [],
   "source": [
    "df.drop(index=8031, inplace=True)"
   ]
  },
  {
   "cell_type": "code",
   "execution_count": 12,
   "id": "398ecd5e",
   "metadata": {},
   "outputs": [
    {
     "data": {
      "image/png": "[encoded data removed]",
      "text/plain": [
       "<Figure size 864x576 with 1 Axes>"
      ]
     },
     "metadata": {
      "needs_background": "light"
     },
     "output_type": "display_data"
    }
   ],
   "source": [
    "plt.figure(figsize=(12,8))\n",
    "sns.boxplot(data=df, x=\"age\")\n",
    "plt.show()"
   ]
  },
  {
   "cell_type": "code",
   "execution_count": 13,
   "id": "e68bb532",
   "metadata": {},
   "outputs": [
    {
     "data": {
      "image/png": "[encoded data removed]",
      "text/plain": [
       "<Figure size 864x576 with 1 Axes>"
      ]
     },
     "metadata": {
      "needs_background": "light"
     },
     "output_type": "display_data"
    }
   ],
   "source": [
    "plt.figure(figsize=(12,8))\n",
    "sns.boxplot(data=df, x=\"nr_of_referred_customers\")\n",
    "plt.show()"
   ]
  },
  {
   "cell_type": "code",
   "execution_count": 14,
   "id": "97ec3e23",
   "metadata": {},
   "outputs": [
    {
     "data": {
      "text/html": [
       "<div>\n",
       "<style scoped>\n",
       "    .dataframe tbody tr th:only-of-type {\n",
       "        vertical-align: middle;\n",
       "    }\n",
       "\n",
       "    .dataframe tbody tr th {\n",
       "        vertical-align: top;\n",
       "    }\n",
       "\n",
       "    .dataframe thead th {\n",
       "        text-align: right;\n",
       "    }\n",
       "</style>\n",
       "<table border=\"1\" class=\"dataframe\">\n",
       "  <thead>\n",
       "    <tr style=\"text-align: right;\">\n",
       "      <th></th>\n",
       "      <th>user_id</th>\n",
       "      <th>signed_on</th>\n",
       "      <th>age</th>\n",
       "      <th>cancellation_date</th>\n",
       "      <th>switched_insurance_from</th>\n",
       "      <th>nr_of_referred_customers</th>\n",
       "      <th>policy_type</th>\n",
       "      <th>monthly_premium</th>\n",
       "      <th>claims_cost</th>\n",
       "      <th>churn</th>\n",
       "    </tr>\n",
       "  </thead>\n",
       "  <tbody>\n",
       "    <tr>\n",
       "      <th>4597</th>\n",
       "      <td>195574023.0</td>\n",
       "      <td>2020-04-10T00:00:00</td>\n",
       "      <td>27.0</td>\n",
       "      <td>NaN</td>\n",
       "      <td>NaN</td>\n",
       "      <td>122</td>\n",
       "      <td>PHONE_INSURANCE</td>\n",
       "      <td>35.0</td>\n",
       "      <td>NaN</td>\n",
       "      <td>No</td>\n",
       "    </tr>\n",
       "    <tr>\n",
       "      <th>7865</th>\n",
       "      <td>336555110.0</td>\n",
       "      <td>2020-12-10T00:00:00</td>\n",
       "      <td>28.0</td>\n",
       "      <td>NaN</td>\n",
       "      <td>NaN</td>\n",
       "      <td>126</td>\n",
       "      <td>HOME_INSURANCE</td>\n",
       "      <td>191.0</td>\n",
       "      <td>NaN</td>\n",
       "      <td>No</td>\n",
       "    </tr>\n",
       "    <tr>\n",
       "      <th>15977</th>\n",
       "      <td>688108493.0</td>\n",
       "      <td>2019-03-26T00:00:00</td>\n",
       "      <td>28.0</td>\n",
       "      <td>NaN</td>\n",
       "      <td>NaN</td>\n",
       "      <td>362</td>\n",
       "      <td>HOME_INSURANCE</td>\n",
       "      <td>124.0</td>\n",
       "      <td>NaN</td>\n",
       "      <td>No</td>\n",
       "    </tr>\n",
       "  </tbody>\n",
       "</table>\n",
       "</div>"
      ],
      "text/plain": [
       "           user_id            signed_on   age cancellation_date  \\\n",
       "4597   195574023.0  2020-04-10T00:00:00  27.0               NaN   \n",
       "7865   336555110.0  2020-12-10T00:00:00  28.0               NaN   \n",
       "15977  688108493.0  2019-03-26T00:00:00  28.0               NaN   \n",
       "\n",
       "      switched_insurance_from  nr_of_referred_customers      policy_type  \\\n",
       "4597                      NaN                       122  PHONE_INSURANCE   \n",
       "7865                      NaN                       126   HOME_INSURANCE   \n",
       "15977                     NaN                       362   HOME_INSURANCE   \n",
       "\n",
       "       monthly_premium  claims_cost churn  \n",
       "4597              35.0          NaN    No  \n",
       "7865             191.0          NaN    No  \n",
       "15977            124.0          NaN    No  "
      ]
     },
     "execution_count": 14,
     "metadata": {},
     "output_type": "execute_result"
    }
   ],
   "source": [
    "df.loc[df.nr_of_referred_customers > 100]"
   ]
  },
  {
   "cell_type": "code",
   "execution_count": 15,
   "id": "b0d56a5b",
   "metadata": {},
   "outputs": [],
   "source": [
    "df.drop(index=[4597,7865,15977], inplace=True)"
   ]
  },
  {
   "cell_type": "code",
   "execution_count": 16,
   "id": "23dbc67e",
   "metadata": {},
   "outputs": [
    {
     "data": {
      "image/png": "[encoded data removed]",
      "text/plain": [
       "<Figure size 864x576 with 1 Axes>"
      ]
     },
     "metadata": {
      "needs_background": "light"
     },
     "output_type": "display_data"
    }
   ],
   "source": [
    "plt.figure(figsize=(12,8))\n",
    "sns.boxplot(data=df, x=\"nr_of_referred_customers\")\n",
    "plt.show()"
   ]
  },
  {
   "cell_type": "markdown",
   "id": "262c449b",
   "metadata": {},
   "source": [
    "## Feature Engineering"
   ]
  },
  {
   "cell_type": "code",
   "execution_count": 17,
   "id": "1d28eaa6",
   "metadata": {},
   "outputs": [],
   "source": [
    "# Asuming that nan for swiched insurance did not have an insurance before\n",
    "df[\"switched_insurance_from\"] = df.switched_insurance_from.fillna(\"First insurance\")"
   ]
  },
  {
   "cell_type": "code",
   "execution_count": 18,
   "id": "0637ee78",
   "metadata": {
    "scrolled": false
   },
   "outputs": [
    {
     "data": {
      "text/html": [
       "<div>\n",
       "<style scoped>\n",
       "    .dataframe tbody tr th:only-of-type {\n",
       "        vertical-align: middle;\n",
       "    }\n",
       "\n",
       "    .dataframe tbody tr th {\n",
       "        vertical-align: top;\n",
       "    }\n",
       "\n",
       "    .dataframe thead th {\n",
       "        text-align: right;\n",
       "    }\n",
       "</style>\n",
       "<table border=\"1\" class=\"dataframe\">\n",
       "  <thead>\n",
       "    <tr style=\"text-align: right;\">\n",
       "      <th></th>\n",
       "      <th>user_id</th>\n",
       "      <th>signed_on</th>\n",
       "      <th>age</th>\n",
       "      <th>cancellation_date</th>\n",
       "      <th>switched_insurance_from</th>\n",
       "      <th>nr_of_referred_customers</th>\n",
       "      <th>policy_type</th>\n",
       "      <th>monthly_premium</th>\n",
       "      <th>claims_cost</th>\n",
       "      <th>churn</th>\n",
       "    </tr>\n",
       "  </thead>\n",
       "  <tbody>\n",
       "    <tr>\n",
       "      <th>0</th>\n",
       "      <td>39511.0</td>\n",
       "      <td>2020-09-09T00:00:00</td>\n",
       "      <td>31.0</td>\n",
       "      <td>2021-06-30</td>\n",
       "      <td>First insurance</td>\n",
       "      <td>0</td>\n",
       "      <td>HOME_INSURANCE</td>\n",
       "      <td>155.0</td>\n",
       "      <td>NaN</td>\n",
       "      <td>Yes</td>\n",
       "    </tr>\n",
       "    <tr>\n",
       "      <th>1</th>\n",
       "      <td>54361.0</td>\n",
       "      <td>2021-06-15T00:00:00</td>\n",
       "      <td>31.0</td>\n",
       "      <td>NaN</td>\n",
       "      <td>First insurance</td>\n",
       "      <td>0</td>\n",
       "      <td>HOME_INSURANCE</td>\n",
       "      <td>279.0</td>\n",
       "      <td>NaN</td>\n",
       "      <td>No</td>\n",
       "    </tr>\n",
       "    <tr>\n",
       "      <th>2</th>\n",
       "      <td>217977.0</td>\n",
       "      <td>2019-03-03T00:00:00</td>\n",
       "      <td>34.0</td>\n",
       "      <td>NaN</td>\n",
       "      <td>First insurance</td>\n",
       "      <td>0</td>\n",
       "      <td>HOME_INSURANCE</td>\n",
       "      <td>228.0</td>\n",
       "      <td>NaN</td>\n",
       "      <td>No</td>\n",
       "    </tr>\n",
       "    <tr>\n",
       "      <th>3</th>\n",
       "      <td>252748.0</td>\n",
       "      <td>2019-08-04T00:00:00</td>\n",
       "      <td>36.0</td>\n",
       "      <td>2020-07-31</td>\n",
       "      <td>First insurance</td>\n",
       "      <td>0</td>\n",
       "      <td>HOME_INSURANCE</td>\n",
       "      <td>239.0</td>\n",
       "      <td>NaN</td>\n",
       "      <td>Yes</td>\n",
       "    </tr>\n",
       "    <tr>\n",
       "      <th>4</th>\n",
       "      <td>275928.0</td>\n",
       "      <td>2020-03-19T00:00:00</td>\n",
       "      <td>34.0</td>\n",
       "      <td>NaN</td>\n",
       "      <td>Trygg-Hansa</td>\n",
       "      <td>0</td>\n",
       "      <td>HOME_INSURANCE</td>\n",
       "      <td>173.0</td>\n",
       "      <td>NaN</td>\n",
       "      <td>No</td>\n",
       "    </tr>\n",
       "    <tr>\n",
       "      <th>...</th>\n",
       "      <td>...</td>\n",
       "      <td>...</td>\n",
       "      <td>...</td>\n",
       "      <td>...</td>\n",
       "      <td>...</td>\n",
       "      <td>...</td>\n",
       "      <td>...</td>\n",
       "      <td>...</td>\n",
       "      <td>...</td>\n",
       "      <td>...</td>\n",
       "    </tr>\n",
       "    <tr>\n",
       "      <th>15995</th>\n",
       "      <td>688733894.0</td>\n",
       "      <td>2020-11-18T00:00:00</td>\n",
       "      <td>25.0</td>\n",
       "      <td>NaN</td>\n",
       "      <td>First insurance</td>\n",
       "      <td>0</td>\n",
       "      <td>PHONE_INSURANCE</td>\n",
       "      <td>26.0</td>\n",
       "      <td>NaN</td>\n",
       "      <td>No</td>\n",
       "    </tr>\n",
       "    <tr>\n",
       "      <th>15996</th>\n",
       "      <td>688741553.0</td>\n",
       "      <td>2019-05-24T00:00:00</td>\n",
       "      <td>53.0</td>\n",
       "      <td>2020-07-20</td>\n",
       "      <td>Trygg-Hansa</td>\n",
       "      <td>0</td>\n",
       "      <td>HOME_INSURANCE</td>\n",
       "      <td>298.0</td>\n",
       "      <td>NaN</td>\n",
       "      <td>Yes</td>\n",
       "    </tr>\n",
       "    <tr>\n",
       "      <th>15997</th>\n",
       "      <td>688745399.0</td>\n",
       "      <td>2019-12-14T00:00:00</td>\n",
       "      <td>29.0</td>\n",
       "      <td>2021-01-08</td>\n",
       "      <td>Folksam</td>\n",
       "      <td>0</td>\n",
       "      <td>HOME_INSURANCE</td>\n",
       "      <td>216.0</td>\n",
       "      <td>NaN</td>\n",
       "      <td>Yes</td>\n",
       "    </tr>\n",
       "    <tr>\n",
       "      <th>15998</th>\n",
       "      <td>688751211.0</td>\n",
       "      <td>2021-03-04T00:00:00</td>\n",
       "      <td>42.0</td>\n",
       "      <td>NaN</td>\n",
       "      <td>First insurance</td>\n",
       "      <td>0</td>\n",
       "      <td>HOME_INSURANCE</td>\n",
       "      <td>222.0</td>\n",
       "      <td>NaN</td>\n",
       "      <td>No</td>\n",
       "    </tr>\n",
       "    <tr>\n",
       "      <th>15999</th>\n",
       "      <td>688764045.0</td>\n",
       "      <td>2020-09-15T00:00:00</td>\n",
       "      <td>22.0</td>\n",
       "      <td>NaN</td>\n",
       "      <td>First insurance</td>\n",
       "      <td>0</td>\n",
       "      <td>HOME_INSURANCE</td>\n",
       "      <td>171.0</td>\n",
       "      <td>NaN</td>\n",
       "      <td>No</td>\n",
       "    </tr>\n",
       "  </tbody>\n",
       "</table>\n",
       "<p>15996 rows × 10 columns</p>\n",
       "</div>"
      ],
      "text/plain": [
       "           user_id            signed_on   age cancellation_date  \\\n",
       "0          39511.0  2020-09-09T00:00:00  31.0        2021-06-30   \n",
       "1          54361.0  2021-06-15T00:00:00  31.0               NaN   \n",
       "2         217977.0  2019-03-03T00:00:00  34.0               NaN   \n",
       "3         252748.0  2019-08-04T00:00:00  36.0        2020-07-31   \n",
       "4         275928.0  2020-03-19T00:00:00  34.0               NaN   \n",
       "...            ...                  ...   ...               ...   \n",
       "15995  688733894.0  2020-11-18T00:00:00  25.0               NaN   \n",
       "15996  688741553.0  2019-05-24T00:00:00  53.0        2020-07-20   \n",
       "15997  688745399.0  2019-12-14T00:00:00  29.0        2021-01-08   \n",
       "15998  688751211.0  2021-03-04T00:00:00  42.0               NaN   \n",
       "15999  688764045.0  2020-09-15T00:00:00  22.0               NaN   \n",
       "\n",
       "      switched_insurance_from  nr_of_referred_customers      policy_type  \\\n",
       "0             First insurance                         0   HOME_INSURANCE   \n",
       "1             First insurance                         0   HOME_INSURANCE   \n",
       "2             First insurance                         0   HOME_INSURANCE   \n",
       "3             First insurance                         0   HOME_INSURANCE   \n",
       "4                 Trygg-Hansa                         0   HOME_INSURANCE   \n",
       "...                       ...                       ...              ...   \n",
       "15995         First insurance                         0  PHONE_INSURANCE   \n",
       "15996             Trygg-Hansa                         0   HOME_INSURANCE   \n",
       "15997                 Folksam                         0   HOME_INSURANCE   \n",
       "15998         First insurance                         0   HOME_INSURANCE   \n",
       "15999         First insurance                         0   HOME_INSURANCE   \n",
       "\n",
       "       monthly_premium  claims_cost churn  \n",
       "0                155.0          NaN   Yes  \n",
       "1                279.0          NaN    No  \n",
       "2                228.0          NaN    No  \n",
       "3                239.0          NaN   Yes  \n",
       "4                173.0          NaN    No  \n",
       "...                ...          ...   ...  \n",
       "15995             26.0          NaN    No  \n",
       "15996            298.0          NaN   Yes  \n",
       "15997            216.0          NaN   Yes  \n",
       "15998            222.0          NaN    No  \n",
       "15999            171.0          NaN    No  \n",
       "\n",
       "[15996 rows x 10 columns]"
      ]
     },
     "execution_count": 18,
     "metadata": {},
     "output_type": "execute_result"
    }
   ],
   "source": [
    "df"
   ]
  },
  {
   "cell_type": "markdown",
   "id": "ce5980fb",
   "metadata": {},
   "source": [
    "#### Time as customer "
   ]
  },
  {
   "cell_type": "code",
   "execution_count": 19,
   "id": "1e037785",
   "metadata": {},
   "outputs": [
    {
     "data": {
      "text/plain": [
       "0        2020-09-09T00:00:00\n",
       "1        2021-06-15T00:00:00\n",
       "2        2019-03-03T00:00:00\n",
       "3        2019-08-04T00:00:00\n",
       "4        2020-03-19T00:00:00\n",
       "                ...         \n",
       "15995    2020-11-18T00:00:00\n",
       "15996    2019-05-24T00:00:00\n",
       "15997    2019-12-14T00:00:00\n",
       "15998    2021-03-04T00:00:00\n",
       "15999    2020-09-15T00:00:00\n",
       "Name: signed_on, Length: 15996, dtype: object"
      ]
     },
     "execution_count": 19,
     "metadata": {},
     "output_type": "execute_result"
    }
   ],
   "source": [
    "df.signed_on"
   ]
  },
  {
   "cell_type": "code",
   "execution_count": 20,
   "id": "348c1001",
   "metadata": {},
   "outputs": [],
   "source": [
    "df.signed_on = pd.to_datetime(df.signed_on)"
   ]
  },
  {
   "cell_type": "code",
   "execution_count": 21,
   "id": "c26cd45c",
   "metadata": {},
   "outputs": [],
   "source": [
    "today = pd.to_datetime(\"2021-09-21\")"
   ]
  },
  {
   "cell_type": "code",
   "execution_count": 22,
   "id": "93e106a1",
   "metadata": {},
   "outputs": [],
   "source": [
    "df[\"time_as_cust\"] = today - df.signed_on"
   ]
  },
  {
   "cell_type": "code",
   "execution_count": 23,
   "id": "3b793064",
   "metadata": {},
   "outputs": [],
   "source": [
    "df[\"time_as_cust\"] = df[\"time_as_cust\"].astype(\"string\")"
   ]
  },
  {
   "cell_type": "code",
   "execution_count": 24,
   "id": "0113c6dc",
   "metadata": {},
   "outputs": [],
   "source": [
    "df[\"time_as_cust\"] = df[\"time_as_cust\"].str.replace(\"days\",\"\")"
   ]
  },
  {
   "cell_type": "code",
   "execution_count": 25,
   "id": "1361b3a5",
   "metadata": {},
   "outputs": [
    {
     "data": {
      "text/html": [
       "<div>\n",
       "<style scoped>\n",
       "    .dataframe tbody tr th:only-of-type {\n",
       "        vertical-align: middle;\n",
       "    }\n",
       "\n",
       "    .dataframe tbody tr th {\n",
       "        vertical-align: top;\n",
       "    }\n",
       "\n",
       "    .dataframe thead th {\n",
       "        text-align: right;\n",
       "    }\n",
       "</style>\n",
       "<table border=\"1\" class=\"dataframe\">\n",
       "  <thead>\n",
       "    <tr style=\"text-align: right;\">\n",
       "      <th></th>\n",
       "      <th>user_id</th>\n",
       "      <th>signed_on</th>\n",
       "      <th>age</th>\n",
       "      <th>cancellation_date</th>\n",
       "      <th>switched_insurance_from</th>\n",
       "      <th>nr_of_referred_customers</th>\n",
       "      <th>policy_type</th>\n",
       "      <th>monthly_premium</th>\n",
       "      <th>claims_cost</th>\n",
       "      <th>churn</th>\n",
       "      <th>time_as_cust</th>\n",
       "    </tr>\n",
       "  </thead>\n",
       "  <tbody>\n",
       "    <tr>\n",
       "      <th>0</th>\n",
       "      <td>39511.0</td>\n",
       "      <td>2020-09-09</td>\n",
       "      <td>31.0</td>\n",
       "      <td>2021-06-30</td>\n",
       "      <td>First insurance</td>\n",
       "      <td>0</td>\n",
       "      <td>HOME_INSURANCE</td>\n",
       "      <td>155.0</td>\n",
       "      <td>NaN</td>\n",
       "      <td>Yes</td>\n",
       "      <td>377</td>\n",
       "    </tr>\n",
       "    <tr>\n",
       "      <th>1</th>\n",
       "      <td>54361.0</td>\n",
       "      <td>2021-06-15</td>\n",
       "      <td>31.0</td>\n",
       "      <td>NaN</td>\n",
       "      <td>First insurance</td>\n",
       "      <td>0</td>\n",
       "      <td>HOME_INSURANCE</td>\n",
       "      <td>279.0</td>\n",
       "      <td>NaN</td>\n",
       "      <td>No</td>\n",
       "      <td>98</td>\n",
       "    </tr>\n",
       "    <tr>\n",
       "      <th>2</th>\n",
       "      <td>217977.0</td>\n",
       "      <td>2019-03-03</td>\n",
       "      <td>34.0</td>\n",
       "      <td>NaN</td>\n",
       "      <td>First insurance</td>\n",
       "      <td>0</td>\n",
       "      <td>HOME_INSURANCE</td>\n",
       "      <td>228.0</td>\n",
       "      <td>NaN</td>\n",
       "      <td>No</td>\n",
       "      <td>933</td>\n",
       "    </tr>\n",
       "    <tr>\n",
       "      <th>3</th>\n",
       "      <td>252748.0</td>\n",
       "      <td>2019-08-04</td>\n",
       "      <td>36.0</td>\n",
       "      <td>2020-07-31</td>\n",
       "      <td>First insurance</td>\n",
       "      <td>0</td>\n",
       "      <td>HOME_INSURANCE</td>\n",
       "      <td>239.0</td>\n",
       "      <td>NaN</td>\n",
       "      <td>Yes</td>\n",
       "      <td>779</td>\n",
       "    </tr>\n",
       "    <tr>\n",
       "      <th>4</th>\n",
       "      <td>275928.0</td>\n",
       "      <td>2020-03-19</td>\n",
       "      <td>34.0</td>\n",
       "      <td>NaN</td>\n",
       "      <td>Trygg-Hansa</td>\n",
       "      <td>0</td>\n",
       "      <td>HOME_INSURANCE</td>\n",
       "      <td>173.0</td>\n",
       "      <td>NaN</td>\n",
       "      <td>No</td>\n",
       "      <td>551</td>\n",
       "    </tr>\n",
       "    <tr>\n",
       "      <th>...</th>\n",
       "      <td>...</td>\n",
       "      <td>...</td>\n",
       "      <td>...</td>\n",
       "      <td>...</td>\n",
       "      <td>...</td>\n",
       "      <td>...</td>\n",
       "      <td>...</td>\n",
       "      <td>...</td>\n",
       "      <td>...</td>\n",
       "      <td>...</td>\n",
       "      <td>...</td>\n",
       "    </tr>\n",
       "    <tr>\n",
       "      <th>15995</th>\n",
       "      <td>688733894.0</td>\n",
       "      <td>2020-11-18</td>\n",
       "      <td>25.0</td>\n",
       "      <td>NaN</td>\n",
       "      <td>First insurance</td>\n",
       "      <td>0</td>\n",
       "      <td>PHONE_INSURANCE</td>\n",
       "      <td>26.0</td>\n",
       "      <td>NaN</td>\n",
       "      <td>No</td>\n",
       "      <td>307</td>\n",
       "    </tr>\n",
       "    <tr>\n",
       "      <th>15996</th>\n",
       "      <td>688741553.0</td>\n",
       "      <td>2019-05-24</td>\n",
       "      <td>53.0</td>\n",
       "      <td>2020-07-20</td>\n",
       "      <td>Trygg-Hansa</td>\n",
       "      <td>0</td>\n",
       "      <td>HOME_INSURANCE</td>\n",
       "      <td>298.0</td>\n",
       "      <td>NaN</td>\n",
       "      <td>Yes</td>\n",
       "      <td>851</td>\n",
       "    </tr>\n",
       "    <tr>\n",
       "      <th>15997</th>\n",
       "      <td>688745399.0</td>\n",
       "      <td>2019-12-14</td>\n",
       "      <td>29.0</td>\n",
       "      <td>2021-01-08</td>\n",
       "      <td>Folksam</td>\n",
       "      <td>0</td>\n",
       "      <td>HOME_INSURANCE</td>\n",
       "      <td>216.0</td>\n",
       "      <td>NaN</td>\n",
       "      <td>Yes</td>\n",
       "      <td>647</td>\n",
       "    </tr>\n",
       "    <tr>\n",
       "      <th>15998</th>\n",
       "      <td>688751211.0</td>\n",
       "      <td>2021-03-04</td>\n",
       "      <td>42.0</td>\n",
       "      <td>NaN</td>\n",
       "      <td>First insurance</td>\n",
       "      <td>0</td>\n",
       "      <td>HOME_INSURANCE</td>\n",
       "      <td>222.0</td>\n",
       "      <td>NaN</td>\n",
       "      <td>No</td>\n",
       "      <td>201</td>\n",
       "    </tr>\n",
       "    <tr>\n",
       "      <th>15999</th>\n",
       "      <td>688764045.0</td>\n",
       "      <td>2020-09-15</td>\n",
       "      <td>22.0</td>\n",
       "      <td>NaN</td>\n",
       "      <td>First insurance</td>\n",
       "      <td>0</td>\n",
       "      <td>HOME_INSURANCE</td>\n",
       "      <td>171.0</td>\n",
       "      <td>NaN</td>\n",
       "      <td>No</td>\n",
       "      <td>371</td>\n",
       "    </tr>\n",
       "  </tbody>\n",
       "</table>\n",
       "<p>15996 rows × 11 columns</p>\n",
       "</div>"
      ],
      "text/plain": [
       "           user_id  signed_on   age cancellation_date switched_insurance_from  \\\n",
       "0          39511.0 2020-09-09  31.0        2021-06-30         First insurance   \n",
       "1          54361.0 2021-06-15  31.0               NaN         First insurance   \n",
       "2         217977.0 2019-03-03  34.0               NaN         First insurance   \n",
       "3         252748.0 2019-08-04  36.0        2020-07-31         First insurance   \n",
       "4         275928.0 2020-03-19  34.0               NaN             Trygg-Hansa   \n",
       "...            ...        ...   ...               ...                     ...   \n",
       "15995  688733894.0 2020-11-18  25.0               NaN         First insurance   \n",
       "15996  688741553.0 2019-05-24  53.0        2020-07-20             Trygg-Hansa   \n",
       "15997  688745399.0 2019-12-14  29.0        2021-01-08                 Folksam   \n",
       "15998  688751211.0 2021-03-04  42.0               NaN         First insurance   \n",
       "15999  688764045.0 2020-09-15  22.0               NaN         First insurance   \n",
       "\n",
       "       nr_of_referred_customers      policy_type  monthly_premium  \\\n",
       "0                             0   HOME_INSURANCE            155.0   \n",
       "1                             0   HOME_INSURANCE            279.0   \n",
       "2                             0   HOME_INSURANCE            228.0   \n",
       "3                             0   HOME_INSURANCE            239.0   \n",
       "4                             0   HOME_INSURANCE            173.0   \n",
       "...                         ...              ...              ...   \n",
       "15995                         0  PHONE_INSURANCE             26.0   \n",
       "15996                         0   HOME_INSURANCE            298.0   \n",
       "15997                         0   HOME_INSURANCE            216.0   \n",
       "15998                         0   HOME_INSURANCE            222.0   \n",
       "15999                         0   HOME_INSURANCE            171.0   \n",
       "\n",
       "       claims_cost churn time_as_cust  \n",
       "0              NaN   Yes         377   \n",
       "1              NaN    No          98   \n",
       "2              NaN    No         933   \n",
       "3              NaN   Yes         779   \n",
       "4              NaN    No         551   \n",
       "...            ...   ...          ...  \n",
       "15995          NaN    No         307   \n",
       "15996          NaN   Yes         851   \n",
       "15997          NaN   Yes         647   \n",
       "15998          NaN    No         201   \n",
       "15999          NaN    No         371   \n",
       "\n",
       "[15996 rows x 11 columns]"
      ]
     },
     "execution_count": 25,
     "metadata": {},
     "output_type": "execute_result"
    }
   ],
   "source": [
    "df"
   ]
  },
  {
   "cell_type": "markdown",
   "id": "951f17c2",
   "metadata": {},
   "source": [
    "## Null values"
   ]
  },
  {
   "cell_type": "code",
   "execution_count": 26,
   "id": "01a5617d",
   "metadata": {},
   "outputs": [
    {
     "data": {
      "text/plain": [
       "user_id                         0\n",
       "signed_on                       0\n",
       "age                            10\n",
       "cancellation_date           12202\n",
       "switched_insurance_from         0\n",
       "nr_of_referred_customers        0\n",
       "policy_type                     0\n",
       "monthly_premium                 0\n",
       "claims_cost                 15690\n",
       "churn                           0\n",
       "time_as_cust                    0\n",
       "dtype: int64"
      ]
     },
     "execution_count": 26,
     "metadata": {},
     "output_type": "execute_result"
    }
   ],
   "source": [
    "df.isna().sum()"
   ]
  },
  {
   "cell_type": "code",
   "execution_count": 27,
   "id": "cbb9ae55",
   "metadata": {},
   "outputs": [],
   "source": [
    "df.drop(columns=[\"cancellation_date\"],inplace=True)"
   ]
  },
  {
   "cell_type": "code",
   "execution_count": 28,
   "id": "dea034e1",
   "metadata": {},
   "outputs": [],
   "source": [
    "df.claims_cost = df.claims_cost.fillna(0)"
   ]
  },
  {
   "cell_type": "code",
   "execution_count": 29,
   "id": "e8e03b3e",
   "metadata": {},
   "outputs": [],
   "source": [
    "df = df.dropna()"
   ]
  },
  {
   "cell_type": "code",
   "execution_count": 30,
   "id": "b68608c2",
   "metadata": {
    "scrolled": false
   },
   "outputs": [
    {
     "data": {
      "text/html": [
       "<div>\n",
       "<style scoped>\n",
       "    .dataframe tbody tr th:only-of-type {\n",
       "        vertical-align: middle;\n",
       "    }\n",
       "\n",
       "    .dataframe tbody tr th {\n",
       "        vertical-align: top;\n",
       "    }\n",
       "\n",
       "    .dataframe thead th {\n",
       "        text-align: right;\n",
       "    }\n",
       "</style>\n",
       "<table border=\"1\" class=\"dataframe\">\n",
       "  <thead>\n",
       "    <tr style=\"text-align: right;\">\n",
       "      <th></th>\n",
       "      <th>user_id</th>\n",
       "      <th>signed_on</th>\n",
       "      <th>age</th>\n",
       "      <th>switched_insurance_from</th>\n",
       "      <th>nr_of_referred_customers</th>\n",
       "      <th>policy_type</th>\n",
       "      <th>monthly_premium</th>\n",
       "      <th>claims_cost</th>\n",
       "      <th>churn</th>\n",
       "      <th>time_as_cust</th>\n",
       "    </tr>\n",
       "  </thead>\n",
       "  <tbody>\n",
       "    <tr>\n",
       "      <th>0</th>\n",
       "      <td>39511.0</td>\n",
       "      <td>2020-09-09</td>\n",
       "      <td>31.0</td>\n",
       "      <td>First insurance</td>\n",
       "      <td>0</td>\n",
       "      <td>HOME_INSURANCE</td>\n",
       "      <td>155.0</td>\n",
       "      <td>0.0</td>\n",
       "      <td>Yes</td>\n",
       "      <td>377</td>\n",
       "    </tr>\n",
       "    <tr>\n",
       "      <th>1</th>\n",
       "      <td>54361.0</td>\n",
       "      <td>2021-06-15</td>\n",
       "      <td>31.0</td>\n",
       "      <td>First insurance</td>\n",
       "      <td>0</td>\n",
       "      <td>HOME_INSURANCE</td>\n",
       "      <td>279.0</td>\n",
       "      <td>0.0</td>\n",
       "      <td>No</td>\n",
       "      <td>98</td>\n",
       "    </tr>\n",
       "    <tr>\n",
       "      <th>2</th>\n",
       "      <td>217977.0</td>\n",
       "      <td>2019-03-03</td>\n",
       "      <td>34.0</td>\n",
       "      <td>First insurance</td>\n",
       "      <td>0</td>\n",
       "      <td>HOME_INSURANCE</td>\n",
       "      <td>228.0</td>\n",
       "      <td>0.0</td>\n",
       "      <td>No</td>\n",
       "      <td>933</td>\n",
       "    </tr>\n",
       "    <tr>\n",
       "      <th>3</th>\n",
       "      <td>252748.0</td>\n",
       "      <td>2019-08-04</td>\n",
       "      <td>36.0</td>\n",
       "      <td>First insurance</td>\n",
       "      <td>0</td>\n",
       "      <td>HOME_INSURANCE</td>\n",
       "      <td>239.0</td>\n",
       "      <td>0.0</td>\n",
       "      <td>Yes</td>\n",
       "      <td>779</td>\n",
       "    </tr>\n",
       "    <tr>\n",
       "      <th>4</th>\n",
       "      <td>275928.0</td>\n",
       "      <td>2020-03-19</td>\n",
       "      <td>34.0</td>\n",
       "      <td>Trygg-Hansa</td>\n",
       "      <td>0</td>\n",
       "      <td>HOME_INSURANCE</td>\n",
       "      <td>173.0</td>\n",
       "      <td>0.0</td>\n",
       "      <td>No</td>\n",
       "      <td>551</td>\n",
       "    </tr>\n",
       "    <tr>\n",
       "      <th>...</th>\n",
       "      <td>...</td>\n",
       "      <td>...</td>\n",
       "      <td>...</td>\n",
       "      <td>...</td>\n",
       "      <td>...</td>\n",
       "      <td>...</td>\n",
       "      <td>...</td>\n",
       "      <td>...</td>\n",
       "      <td>...</td>\n",
       "      <td>...</td>\n",
       "    </tr>\n",
       "    <tr>\n",
       "      <th>15995</th>\n",
       "      <td>688733894.0</td>\n",
       "      <td>2020-11-18</td>\n",
       "      <td>25.0</td>\n",
       "      <td>First insurance</td>\n",
       "      <td>0</td>\n",
       "      <td>PHONE_INSURANCE</td>\n",
       "      <td>26.0</td>\n",
       "      <td>0.0</td>\n",
       "      <td>No</td>\n",
       "      <td>307</td>\n",
       "    </tr>\n",
       "    <tr>\n",
       "      <th>15996</th>\n",
       "      <td>688741553.0</td>\n",
       "      <td>2019-05-24</td>\n",
       "      <td>53.0</td>\n",
       "      <td>Trygg-Hansa</td>\n",
       "      <td>0</td>\n",
       "      <td>HOME_INSURANCE</td>\n",
       "      <td>298.0</td>\n",
       "      <td>0.0</td>\n",
       "      <td>Yes</td>\n",
       "      <td>851</td>\n",
       "    </tr>\n",
       "    <tr>\n",
       "      <th>15997</th>\n",
       "      <td>688745399.0</td>\n",
       "      <td>2019-12-14</td>\n",
       "      <td>29.0</td>\n",
       "      <td>Folksam</td>\n",
       "      <td>0</td>\n",
       "      <td>HOME_INSURANCE</td>\n",
       "      <td>216.0</td>\n",
       "      <td>0.0</td>\n",
       "      <td>Yes</td>\n",
       "      <td>647</td>\n",
       "    </tr>\n",
       "    <tr>\n",
       "      <th>15998</th>\n",
       "      <td>688751211.0</td>\n",
       "      <td>2021-03-04</td>\n",
       "      <td>42.0</td>\n",
       "      <td>First insurance</td>\n",
       "      <td>0</td>\n",
       "      <td>HOME_INSURANCE</td>\n",
       "      <td>222.0</td>\n",
       "      <td>0.0</td>\n",
       "      <td>No</td>\n",
       "      <td>201</td>\n",
       "    </tr>\n",
       "    <tr>\n",
       "      <th>15999</th>\n",
       "      <td>688764045.0</td>\n",
       "      <td>2020-09-15</td>\n",
       "      <td>22.0</td>\n",
       "      <td>First insurance</td>\n",
       "      <td>0</td>\n",
       "      <td>HOME_INSURANCE</td>\n",
       "      <td>171.0</td>\n",
       "      <td>0.0</td>\n",
       "      <td>No</td>\n",
       "      <td>371</td>\n",
       "    </tr>\n",
       "  </tbody>\n",
       "</table>\n",
       "<p>15986 rows × 10 columns</p>\n",
       "</div>"
      ],
      "text/plain": [
       "           user_id  signed_on   age switched_insurance_from  \\\n",
       "0          39511.0 2020-09-09  31.0         First insurance   \n",
       "1          54361.0 2021-06-15  31.0         First insurance   \n",
       "2         217977.0 2019-03-03  34.0         First insurance   \n",
       "3         252748.0 2019-08-04  36.0         First insurance   \n",
       "4         275928.0 2020-03-19  34.0             Trygg-Hansa   \n",
       "...            ...        ...   ...                     ...   \n",
       "15995  688733894.0 2020-11-18  25.0         First insurance   \n",
       "15996  688741553.0 2019-05-24  53.0             Trygg-Hansa   \n",
       "15997  688745399.0 2019-12-14  29.0                 Folksam   \n",
       "15998  688751211.0 2021-03-04  42.0         First insurance   \n",
       "15999  688764045.0 2020-09-15  22.0         First insurance   \n",
       "\n",
       "       nr_of_referred_customers      policy_type  monthly_premium  \\\n",
       "0                             0   HOME_INSURANCE            155.0   \n",
       "1                             0   HOME_INSURANCE            279.0   \n",
       "2                             0   HOME_INSURANCE            228.0   \n",
       "3                             0   HOME_INSURANCE            239.0   \n",
       "4                             0   HOME_INSURANCE            173.0   \n",
       "...                         ...              ...              ...   \n",
       "15995                         0  PHONE_INSURANCE             26.0   \n",
       "15996                         0   HOME_INSURANCE            298.0   \n",
       "15997                         0   HOME_INSURANCE            216.0   \n",
       "15998                         0   HOME_INSURANCE            222.0   \n",
       "15999                         0   HOME_INSURANCE            171.0   \n",
       "\n",
       "       claims_cost churn time_as_cust  \n",
       "0              0.0   Yes         377   \n",
       "1              0.0    No          98   \n",
       "2              0.0    No         933   \n",
       "3              0.0   Yes         779   \n",
       "4              0.0    No         551   \n",
       "...            ...   ...          ...  \n",
       "15995          0.0    No         307   \n",
       "15996          0.0   Yes         851   \n",
       "15997          0.0   Yes         647   \n",
       "15998          0.0    No         201   \n",
       "15999          0.0    No         371   \n",
       "\n",
       "[15986 rows x 10 columns]"
      ]
     },
     "execution_count": 30,
     "metadata": {},
     "output_type": "execute_result"
    }
   ],
   "source": [
    "df"
   ]
  },
  {
   "cell_type": "code",
   "execution_count": 31,
   "id": "0da639e3",
   "metadata": {},
   "outputs": [
    {
     "name": "stderr",
     "output_type": "stream",
     "text": [
      "/opt/anaconda3/lib/python3.7/site-packages/ipykernel_launcher.py:1: SettingWithCopyWarning: \n",
      "A value is trying to be set on a copy of a slice from a DataFrame.\n",
      "Try using .loc[row_indexer,col_indexer] = value instead\n",
      "\n",
      "See the caveats in the documentation: https://pandas.pydata.org/pandas-docs/stable/user_guide/indexing.html#returning-a-view-versus-a-copy\n",
      "  \"\"\"Entry point for launching an IPython kernel.\n"
     ]
    }
   ],
   "source": [
    "df[\"signed_on\"] = pd.to_datetime(df.signed_on)"
   ]
  },
  {
   "cell_type": "markdown",
   "id": "59ff0286",
   "metadata": {},
   "source": [
    "## X and y"
   ]
  },
  {
   "cell_type": "code",
   "execution_count": 32,
   "id": "085a5adb",
   "metadata": {},
   "outputs": [],
   "source": [
    "target = \"churn\"\n",
    "\n",
    "X = df.drop(columns=[\"churn\",\"user_id\",\"signed_on\"])\n",
    "y = df[target]"
   ]
  },
  {
   "cell_type": "code",
   "execution_count": 33,
   "id": "142a0ee3",
   "metadata": {},
   "outputs": [],
   "source": [
    "X = pd.get_dummies(X, drop_first=True)"
   ]
  },
  {
   "cell_type": "code",
   "execution_count": 34,
   "id": "1e72e32f",
   "metadata": {},
   "outputs": [],
   "source": [
    "y = y.map({\"Yes\":1,\"No\":0})"
   ]
  },
  {
   "cell_type": "markdown",
   "id": "87e0103e",
   "metadata": {},
   "source": [
    "## Test, train, split"
   ]
  },
  {
   "cell_type": "code",
   "execution_count": 35,
   "id": "6769a9bb",
   "metadata": {},
   "outputs": [],
   "source": [
    "from sklearn.model_selection import train_test_split"
   ]
  },
  {
   "cell_type": "code",
   "execution_count": 36,
   "id": "881fdb6c",
   "metadata": {},
   "outputs": [],
   "source": [
    "X_train, X_test, y_train, y_test = train_test_split(X, y, test_size = 0.2)"
   ]
  },
  {
   "cell_type": "markdown",
   "id": "c1cd92a6",
   "metadata": {},
   "source": [
    "## Pipeline for preprocessing"
   ]
  },
  {
   "cell_type": "code",
   "execution_count": 37,
   "id": "16b4068e",
   "metadata": {},
   "outputs": [],
   "source": [
    "from sklearn.preprocessing import StandardScaler"
   ]
  },
  {
   "cell_type": "code",
   "execution_count": 38,
   "id": "9d644624",
   "metadata": {},
   "outputs": [],
   "source": [
    "from sklearn.linear_model import LogisticRegression"
   ]
  },
  {
   "cell_type": "code",
   "execution_count": 39,
   "id": "b5c50e3f",
   "metadata": {},
   "outputs": [],
   "source": [
    "from sklearn.model_selection import GridSearchCV"
   ]
  },
  {
   "cell_type": "code",
   "execution_count": 40,
   "id": "aa4ee3f7",
   "metadata": {},
   "outputs": [],
   "source": [
    "from sklearn.tree import DecisionTreeClassifier\n",
    "from sklearn.ensemble import RandomForestClassifier\n",
    "from sklearn.svm import SVC\n",
    "from sklearn.neighbors import KNeighborsClassifier"
   ]
  },
  {
   "cell_type": "code",
   "execution_count": 41,
   "id": "fb445866",
   "metadata": {},
   "outputs": [],
   "source": [
    "from sklearn.pipeline import make_pipeline"
   ]
  },
  {
   "cell_type": "code",
   "execution_count": 42,
   "id": "4fb6ec26",
   "metadata": {},
   "outputs": [],
   "source": [
    "classifiers = [\n",
    "    LogisticRegression(),\n",
    "    DecisionTreeClassifier(),\n",
    "    RandomForestClassifier(),\n",
    "    SVC(),\n",
    "    KNeighborsClassifier()]"
   ]
  },
  {
   "cell_type": "code",
   "execution_count": 43,
   "id": "7427822a",
   "metadata": {},
   "outputs": [
    {
     "name": "stdout",
     "output_type": "stream",
     "text": [
      "Train score for LogisticRegression(): 0.7672817386725733\n",
      "Train score for DecisionTreeClassifier(): 0.6753985670879092\n",
      "Train score for RandomForestClassifier(): 0.7438999719606422\n",
      "Train score for SVC(): 0.7636848119329637\n",
      "Train score for KNeighborsClassifier(): 0.734906248557135\n"
     ]
    }
   ],
   "source": [
    "for algo in classifiers:\n",
    "    \n",
    "    pipe = make_pipeline(StandardScaler(), algo)\n",
    "    \n",
    "    grid = GridSearchCV(estimator=pipe, param_grid = {}, cv=5)\n",
    "    \n",
    "    grid.fit(X_train, y_train)\n",
    "    \n",
    "    print(f\"Train score for {algo}: {grid.best_score_}\")"
   ]
  },
  {
   "cell_type": "markdown",
   "id": "59b8ed4e",
   "metadata": {},
   "source": [
    "## GridSearch"
   ]
  },
  {
   "cell_type": "markdown",
   "id": "3dc630b2",
   "metadata": {},
   "source": [
    "### LogReg()\n",
    "- testing for recall since I want to minimize the false negatives"
   ]
  },
  {
   "cell_type": "code",
   "execution_count": 44,
   "id": "7cbac958",
   "metadata": {},
   "outputs": [],
   "source": [
    "pipe = make_pipeline(StandardScaler(), LogisticRegression(max_iter=1000))"
   ]
  },
  {
   "cell_type": "code",
   "execution_count": 45,
   "id": "7e1bb3eb",
   "metadata": {},
   "outputs": [
    {
     "data": {
      "text/plain": [
       "LogisticRegression()"
      ]
     },
     "execution_count": 45,
     "metadata": {},
     "output_type": "execute_result"
    }
   ],
   "source": [
    "LogisticRegression()"
   ]
  },
  {
   "cell_type": "code",
   "execution_count": 71,
   "id": "11eb55c5",
   "metadata": {},
   "outputs": [
    {
     "data": {
      "text/plain": [
       "GridSearchCV(cv=5,\n",
       "             estimator=Pipeline(steps=[('standardscaler', StandardScaler()),\n",
       "                                       ('logisticregression',\n",
       "                                        LogisticRegression(max_iter=1000))]),\n",
       "             param_grid={'logisticregression__C': [0.0001, 0.001, 0.01, 0.1, 1,\n",
       "                                                   10, 100, 1000]},\n",
       "             scoring='recall')"
      ]
     },
     "execution_count": 71,
     "metadata": {},
     "output_type": "execute_result"
    }
   ],
   "source": [
    "param_grid_logreg = {\"logisticregression__C\":[0.0001,0.001,0.01,0.1,1,10,100,1000]}\n",
    "\n",
    "grid_logreg = GridSearchCV(estimator=pipe, param_grid = param_grid_logreg, cv=5, scoring=\"recall\")\n",
    "\n",
    "grid_logreg.fit(X_train, y_train)"
   ]
  },
  {
   "cell_type": "code",
   "execution_count": 72,
   "id": "5bbac17c",
   "metadata": {},
   "outputs": [
    {
     "name": "stdout",
     "output_type": "stream",
     "text": [
      "Best score: 0.15568672694588287\n",
      "Best params: {'logisticregression__C': 100}\n"
     ]
    }
   ],
   "source": [
    "print(\"Best score:\", grid_logreg.best_score_)\n",
    "print(\"Best params:\", grid_logreg.best_params_)"
   ]
  },
  {
   "cell_type": "markdown",
   "id": "11736312",
   "metadata": {},
   "source": [
    "## Best model"
   ]
  },
  {
   "cell_type": "code",
   "execution_count": 73,
   "id": "a7f1bd2f",
   "metadata": {},
   "outputs": [],
   "source": [
    "best_model = grid_logreg.best_estimator_"
   ]
  },
  {
   "cell_type": "code",
   "execution_count": 74,
   "id": "ef933380",
   "metadata": {},
   "outputs": [
    {
     "data": {
      "text/plain": [
       "Pipeline(steps=[('standardscaler', StandardScaler()),\n",
       "                ('logisticregression',\n",
       "                 LogisticRegression(C=100, max_iter=1000))])"
      ]
     },
     "execution_count": 74,
     "metadata": {},
     "output_type": "execute_result"
    }
   ],
   "source": [
    "best_model"
   ]
  },
  {
   "cell_type": "code",
   "execution_count": 75,
   "id": "27a3747b",
   "metadata": {},
   "outputs": [],
   "source": [
    "from sklearn.metrics import accuracy_score, precision_score, recall_score"
   ]
  },
  {
   "cell_type": "code",
   "execution_count": 76,
   "id": "21fe6709",
   "metadata": {},
   "outputs": [],
   "source": [
    "y_test_pred = best_model.predict(X_test)\n",
    "accuracy = accuracy_score(y_test, y_test_pred)\n",
    "precision = precision_score(y_test, y_test_pred)\n",
    "recall = recall_score(y_test, y_test_pred)"
   ]
  },
  {
   "cell_type": "code",
   "execution_count": 77,
   "id": "54973438",
   "metadata": {},
   "outputs": [
    {
     "name": "stdout",
     "output_type": "stream",
     "text": [
      "Accuracy score: 0.7723577235772358\n",
      "Precision score: 0.510548523206751\n",
      "Recall score: 0.165075034106412\n"
     ]
    }
   ],
   "source": [
    "print(f\"Accuracy score: {accuracy}\")\n",
    "print(f\"Precision score: {precision}\")\n",
    "print(f\"Recall score: {recall}\")"
   ]
  },
  {
   "cell_type": "code",
   "execution_count": 78,
   "id": "d4b59528",
   "metadata": {},
   "outputs": [],
   "source": [
    "from sklearn.metrics import plot_confusion_matrix"
   ]
  },
  {
   "cell_type": "code",
   "execution_count": 79,
   "id": "bfca8749",
   "metadata": {},
   "outputs": [
    {
     "data": {
      "text/plain": [
       "<sklearn.metrics._plot.confusion_matrix.ConfusionMatrixDisplay at 0x7fe59257cb50>"
      ]
     },
     "execution_count": 79,
     "metadata": {},
     "output_type": "execute_result"
    },
    {
     "data": {
      "image/png": "[encoded data removed]",
      "text/plain": [
       "<Figure size 432x288 with 2 Axes>"
      ]
     },
     "metadata": {
      "needs_background": "light"
     },
     "output_type": "display_data"
    }
   ],
   "source": [
    "plot_confusion_matrix(estimator=best_model, X=X_test, y_true= y_test)"
   ]
  },
  {
   "cell_type": "code",
   "execution_count": 80,
   "id": "37bfca41",
   "metadata": {},
   "outputs": [],
   "source": [
    "# True negative = 2349\n",
    "# True positive = 121 "
   ]
  },
  {
   "cell_type": "code",
   "execution_count": 81,
   "id": "5f4a2ec1",
   "metadata": {},
   "outputs": [],
   "source": []
  },
  {
   "cell_type": "code",
   "execution_count": null,
   "id": "950c6159",
   "metadata": {},
   "outputs": [],
   "source": []
  },
  {
   "cell_type": "code",
   "execution_count": null,
   "id": "e8ed754e",
   "metadata": {},
   "outputs": [],
   "source": []
  }
 ],
 "metadata": {
  "kernelspec": {
   "display_name": "Python 3",
   "language": "python",
   "name": "python3"
  },
  "language_info": {
   "codemirror_mode": {
    "name": "ipython",
    "version": 3
   },
   "file_extension": ".py",
   "mimetype": "text/x-python",
   "name": "python",
   "nbconvert_exporter": "python",
   "pygments_lexer": "ipython3",
   "version": "3.7.7"
  }
 },
 "nbformat": 4,
 "nbformat_minor": 5
}
